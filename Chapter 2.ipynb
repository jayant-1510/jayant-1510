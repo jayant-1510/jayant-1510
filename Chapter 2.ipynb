{
 "cells": [
  {
   "cell_type": "markdown",
   "id": "42e04d3b",
   "metadata": {},
   "source": [
    "# chapter 2 Data Type"
   ]
  },
  {
   "cell_type": "code",
   "execution_count": 1,
   "id": "c15d4723",
   "metadata": {},
   "outputs": [
    {
     "name": "stderr",
     "output_type": "stream",
     "text": [
      "\u001b[32m\u001b[1m  Activating\u001b[22m\u001b[39m new environment at `C:\\Users\\pcs\\Project.toml`\n",
      "\u001b[32m\u001b[1m  No Changes\u001b[22m\u001b[39m to `C:\\Users\\pcs\\Project.toml`\n",
      "\u001b[32m\u001b[1m  No Changes\u001b[22m\u001b[39m to `C:\\Users\\pcs\\Manifest.toml`\n"
     ]
    }
   ],
   "source": [
    "using Pkg\n",
    "pkg\"activate .\"\n",
    "pkg\"instantiate\""
   ]
  },
  {
   "cell_type": "markdown",
   "id": "87b1f2b9",
   "metadata": {},
   "source": [
    "# Types in Julia"
   ]
  },
  {
   "cell_type": "markdown",
   "id": "cbb8349e",
   "metadata": {},
   "source": [
    "# variables"
   ]
  },
  {
   "cell_type": "code",
   "execution_count": 111,
   "id": "dbd1b1f8",
   "metadata": {},
   "outputs": [
    {
     "data": {
      "text/plain": [
       "10"
      ]
     },
     "execution_count": 111,
     "metadata": {},
     "output_type": "execute_result"
    }
   ],
   "source": [
    "x = 10"
   ]
  },
  {
   "cell_type": "code",
   "execution_count": 112,
   "id": "6570e721",
   "metadata": {},
   "outputs": [
    {
     "data": {
      "text/plain": [
       "11"
      ]
     },
     "execution_count": 112,
     "metadata": {},
     "output_type": "execute_result"
    }
   ],
   "source": [
    "xyz = 11"
   ]
  },
  {
   "cell_type": "code",
   "execution_count": 113,
   "id": "9e267976",
   "metadata": {},
   "outputs": [
    {
     "ename": "LoadError",
     "evalue": "syntax: \"1\" is not a valid function argument name around In[113]:1",
     "output_type": "error",
     "traceback": [
      "syntax: \"1\" is not a valid function argument name around In[113]:1",
      "",
      "Stacktrace:",
      " [1] top-level scope",
      "   @ In[113]:1",
      " [2] eval",
      "   @ .\\boot.jl:360 [inlined]",
      " [3] include_string(mapexpr::typeof(REPL.softscope), mod::Module, code::String, filename::String)",
      "   @ Base .\\loading.jl:1116"
     ]
    }
   ],
   "source": [
    "1abc = 23"
   ]
  },
  {
   "cell_type": "code",
   "execution_count": 5,
   "id": "53f3638e",
   "metadata": {},
   "outputs": [
    {
     "data": {
      "text/plain": [
       "24"
      ]
     },
     "execution_count": 5,
     "metadata": {},
     "output_type": "execute_result"
    }
   ],
   "source": [
    "πi = 24"
   ]
  },
  {
   "cell_type": "code",
   "execution_count": 6,
   "id": "d15a238f",
   "metadata": {},
   "outputs": [
    {
     "data": {
      "text/plain": [
       "76"
      ]
     },
     "execution_count": 6,
     "metadata": {},
     "output_type": "execute_result"
    }
   ],
   "source": [
    "aπi = 76"
   ]
  },
  {
   "cell_type": "markdown",
   "id": "78ef0de0",
   "metadata": {},
   "source": [
    "# Definition vs Initialisation"
   ]
  },
  {
   "cell_type": "code",
   "execution_count": 8,
   "id": "98245a34",
   "metadata": {},
   "outputs": [
    {
     "ename": "LoadError",
     "evalue": "syntax: type declarations on global variables are not yet supported",
     "output_type": "error",
     "traceback": [
      "syntax: type declarations on global variables are not yet supported",
      "",
      "Stacktrace:",
      " [1] top-level scope",
      "   @ In[8]:1",
      " [2] eval",
      "   @ .\\boot.jl:360 [inlined]",
      " [3] include_string(mapexpr::typeof(REPL.softscope), mod::Module, code::String, filename::String)",
      "   @ Base .\\loading.jl:1116"
     ]
    }
   ],
   "source": [
    "x::Int = 23"
   ]
  },
  {
   "cell_type": "code",
   "execution_count": 114,
   "id": "aa75868b",
   "metadata": {},
   "outputs": [
    {
     "data": {
      "text/plain": [
       "44"
      ]
     },
     "execution_count": 114,
     "metadata": {},
     "output_type": "execute_result"
    }
   ],
   "source": [
    "function f()\n",
    "    i::Int=44\n",
    "    return i\n",
    "end\n",
    "f()"
   ]
  },
  {
   "cell_type": "code",
   "execution_count": 10,
   "id": "89e4c5e3",
   "metadata": {},
   "outputs": [
    {
     "ename": "LoadError",
     "evalue": "UndefVarError: i not defined",
     "output_type": "error",
     "traceback": [
      "UndefVarError: i not defined",
      "",
      "Stacktrace:",
      " [1] top-level scope",
      "   @ :0",
      " [2] eval",
      "   @ .\\boot.jl:360 [inlined]",
      " [3] include_string(mapexpr::typeof(REPL.softscope), mod::Module, code::String, filename::String)",
      "   @ Base .\\loading.jl:1116"
     ]
    }
   ],
   "source": [
    "i"
   ]
  },
  {
   "cell_type": "code",
   "execution_count": 11,
   "id": "909835bb",
   "metadata": {},
   "outputs": [
    {
     "data": {
      "text/plain": [
       "f (generic function with 1 method)"
      ]
     },
     "execution_count": 11,
     "metadata": {},
     "output_type": "execute_result"
    }
   ],
   "source": [
    "function f()\n",
    "    i\n",
    "    return i\n",
    "end"
   ]
  },
  {
   "cell_type": "code",
   "execution_count": 12,
   "id": "c865cc32",
   "metadata": {},
   "outputs": [
    {
     "ename": "LoadError",
     "evalue": "UndefVarError: i not defined",
     "output_type": "error",
     "traceback": [
      "UndefVarError: i not defined",
      "",
      "Stacktrace:",
      " [1] f()",
      "   @ Main .\\In[11]:2",
      " [2] top-level scope",
      "   @ In[12]:1",
      " [3] eval",
      "   @ .\\boot.jl:360 [inlined]",
      " [4] include_string(mapexpr::typeof(REPL.softscope), mod::Module, code::String, filename::String)",
      "   @ Base .\\loading.jl:1116"
     ]
    }
   ],
   "source": [
    "f()"
   ]
  },
  {
   "cell_type": "markdown",
   "id": "9919bd2e",
   "metadata": {},
   "source": [
    "# contants"
   ]
  },
  {
   "cell_type": "code",
   "execution_count": 13,
   "id": "4896b178",
   "metadata": {},
   "outputs": [
    {
     "data": {
      "text/plain": [
       "1"
      ]
     },
     "execution_count": 13,
     "metadata": {},
     "output_type": "execute_result"
    }
   ],
   "source": [
    "const ICONSTANT=1"
   ]
  },
  {
   "cell_type": "code",
   "execution_count": 115,
   "id": "dccf54ae",
   "metadata": {},
   "outputs": [
    {
     "name": "stderr",
     "output_type": "stream",
     "text": [
      "WARNING: redefinition of constant ICONSTANT. This may fail, cause incorrect answers, or produce other errors.\n"
     ]
    },
    {
     "data": {
      "text/plain": [
       "13324"
      ]
     },
     "execution_count": 115,
     "metadata": {},
     "output_type": "execute_result"
    }
   ],
   "source": [
    "ICONSTANT=13324"
   ]
  },
  {
   "cell_type": "code",
   "execution_count": 15,
   "id": "998cf76c",
   "metadata": {},
   "outputs": [
    {
     "data": {
      "text/plain": [
       "5"
      ]
     },
     "execution_count": 15,
     "metadata": {},
     "output_type": "execute_result"
    }
   ],
   "source": [
    "ICONSTANT"
   ]
  },
  {
   "cell_type": "markdown",
   "id": "19c90790",
   "metadata": {},
   "source": [
    "# Literals"
   ]
  },
  {
   "cell_type": "code",
   "execution_count": 116,
   "id": "49a92f1f",
   "metadata": {},
   "outputs": [
    {
     "data": {
      "text/plain": [
       "29928"
      ]
     },
     "execution_count": 116,
     "metadata": {},
     "output_type": "execute_result"
    }
   ],
   "source": [
    "29928         # Integer"
   ]
  },
  {
   "cell_type": "code",
   "execution_count": 117,
   "id": "36c68b66",
   "metadata": {},
   "outputs": [
    {
     "data": {
      "text/plain": [
       "45.98"
      ]
     },
     "execution_count": 117,
     "metadata": {},
     "output_type": "execute_result"
    }
   ],
   "source": [
    "45.98        # Double precision Float (Float64)"
   ]
  },
  {
   "cell_type": "code",
   "execution_count": 18,
   "id": "011fba33",
   "metadata": {},
   "outputs": [
    {
     "data": {
      "text/plain": [
       "2.0f0"
      ]
     },
     "execution_count": 18,
     "metadata": {},
     "output_type": "execute_result"
    }
   ],
   "source": [
    "2f0        # Single precision Float (Float32)"
   ]
  },
  {
   "cell_type": "code",
   "execution_count": 19,
   "id": "0bf2e491",
   "metadata": {},
   "outputs": [
    {
     "data": {
      "text/plain": [
       "\"string\""
      ]
     },
     "execution_count": 19,
     "metadata": {},
     "output_type": "execute_result"
    }
   ],
   "source": [
    "\"string\"   # String"
   ]
  },
  {
   "cell_type": "code",
   "execution_count": 20,
   "id": "054c301f",
   "metadata": {},
   "outputs": [
    {
     "data": {
      "text/plain": [
       "'a': ASCII/Unicode U+0061 (category Ll: Letter, lowercase)"
      ]
     },
     "execution_count": 20,
     "metadata": {},
     "output_type": "execute_result"
    }
   ],
   "source": [
    "'a'        # Char"
   ]
  },
  {
   "cell_type": "markdown",
   "id": "94192aa8",
   "metadata": {},
   "source": [
    "# Tuples"
   ]
  },
  {
   "cell_type": "code",
   "execution_count": 21,
   "id": "554bd6d4",
   "metadata": {},
   "outputs": [
    {
     "data": {
      "text/plain": [
       "(2, 1)"
      ]
     },
     "execution_count": 21,
     "metadata": {},
     "output_type": "execute_result"
    }
   ],
   "source": [
    "i = 1\n",
    "j = 2\n",
    "i, j = j, i"
   ]
  },
  {
   "cell_type": "code",
   "execution_count": 22,
   "id": "93ce0d33",
   "metadata": {},
   "outputs": [
    {
     "data": {
      "text/plain": [
       "1"
      ]
     },
     "execution_count": 22,
     "metadata": {},
     "output_type": "execute_result"
    }
   ],
   "source": [
    "j"
   ]
  },
  {
   "cell_type": "code",
   "execution_count": 23,
   "id": "bfd6968e",
   "metadata": {},
   "outputs": [
    {
     "data": {
      "text/plain": [
       "2"
      ]
     },
     "execution_count": 23,
     "metadata": {},
     "output_type": "execute_result"
    }
   ],
   "source": [
    "i"
   ]
  },
  {
   "cell_type": "code",
   "execution_count": 24,
   "id": "2634e334",
   "metadata": {},
   "outputs": [
    {
     "data": {
      "text/plain": [
       "(1, 2)"
      ]
     },
     "execution_count": 24,
     "metadata": {},
     "output_type": "execute_result"
    }
   ],
   "source": [
    "1,2"
   ]
  },
  {
   "cell_type": "code",
   "execution_count": 25,
   "id": "351233d3",
   "metadata": {},
   "outputs": [
    {
     "data": {
      "text/plain": [
       "(2, 3)"
      ]
     },
     "execution_count": 25,
     "metadata": {},
     "output_type": "execute_result"
    }
   ],
   "source": [
    "a = (2, 3)"
   ]
  },
  {
   "cell_type": "code",
   "execution_count": 26,
   "id": "4ad61508",
   "metadata": {},
   "outputs": [
    {
     "data": {
      "text/plain": [
       "Tuple{Int64, Int64}"
      ]
     },
     "execution_count": 26,
     "metadata": {},
     "output_type": "execute_result"
    }
   ],
   "source": [
    "typeof(a)"
   ]
  },
  {
   "cell_type": "code",
   "execution_count": 27,
   "id": "b21037f8",
   "metadata": {},
   "outputs": [
    {
     "data": {
      "text/plain": [
       "2"
      ]
     },
     "execution_count": 27,
     "metadata": {},
     "output_type": "execute_result"
    }
   ],
   "source": [
    "a[1]"
   ]
  },
  {
   "cell_type": "code",
   "execution_count": 28,
   "id": "823d706d",
   "metadata": {},
   "outputs": [
    {
     "ename": "LoadError",
     "evalue": "MethodError: no method matching setindex!(::Tuple{Int64, Int64}, ::Int64, ::Int64)",
     "output_type": "error",
     "traceback": [
      "MethodError: no method matching setindex!(::Tuple{Int64, Int64}, ::Int64, ::Int64)",
      "",
      "Stacktrace:",
      " [1] top-level scope",
      "   @ In[28]:1",
      " [2] eval",
      "   @ .\\boot.jl:360 [inlined]",
      " [3] include_string(mapexpr::typeof(REPL.softscope), mod::Module, code::String, filename::String)",
      "   @ Base .\\loading.jl:1116"
     ]
    }
   ],
   "source": [
    "a[1] = 5"
   ]
  },
  {
   "cell_type": "code",
   "execution_count": 29,
   "id": "0fcf3541",
   "metadata": {},
   "outputs": [
    {
     "data": {
      "text/plain": [
       "(1, 2)"
      ]
     },
     "execution_count": 29,
     "metadata": {},
     "output_type": "execute_result"
    }
   ],
   "source": [
    "i, j = 1, 2"
   ]
  },
  {
   "cell_type": "code",
   "execution_count": 30,
   "id": "19f25661",
   "metadata": {},
   "outputs": [
    {
     "data": {
      "text/plain": [
       "1"
      ]
     },
     "execution_count": 30,
     "metadata": {},
     "output_type": "execute_result"
    }
   ],
   "source": [
    "i"
   ]
  },
  {
   "cell_type": "code",
   "execution_count": 31,
   "id": "9e671369",
   "metadata": {},
   "outputs": [
    {
     "data": {
      "text/plain": [
       "2"
      ]
     },
     "execution_count": 31,
     "metadata": {},
     "output_type": "execute_result"
    }
   ],
   "source": [
    "j"
   ]
  },
  {
   "cell_type": "code",
   "execution_count": 32,
   "id": "f6b05fa2",
   "metadata": {},
   "outputs": [
    {
     "data": {
      "text/plain": [
       "(1, 2)"
      ]
     },
     "execution_count": 32,
     "metadata": {},
     "output_type": "execute_result"
    }
   ],
   "source": [
    "i = 1, 2 #i is a Tuple"
   ]
  },
  {
   "cell_type": "code",
   "execution_count": 33,
   "id": "b1c69e4e",
   "metadata": {},
   "outputs": [
    {
     "data": {
      "text/plain": [
       "(1, 2)"
      ]
     },
     "execution_count": 33,
     "metadata": {},
     "output_type": "execute_result"
    }
   ],
   "source": [
    "i, = 1, 2 #i is an Int"
   ]
  },
  {
   "cell_type": "code",
   "execution_count": 34,
   "id": "6e8b0018",
   "metadata": {},
   "outputs": [
    {
     "data": {
      "text/plain": [
       "1"
      ]
     },
     "execution_count": 34,
     "metadata": {},
     "output_type": "execute_result"
    }
   ],
   "source": [
    "i"
   ]
  },
  {
   "cell_type": "code",
   "execution_count": 40,
   "id": "93509d03",
   "metadata": {},
   "outputs": [
    {
     "data": {
      "text/plain": [
       "(1, 2, 3)"
      ]
     },
     "execution_count": 40,
     "metadata": {},
     "output_type": "execute_result"
    }
   ],
   "source": [
    "i, j , k = 1,2,3  #i and j get assigned 3 is ignored"
   ]
  },
  {
   "cell_type": "code",
   "execution_count": 36,
   "id": "ab0bff17",
   "metadata": {},
   "outputs": [
    {
     "data": {
      "text/plain": [
       "1"
      ]
     },
     "execution_count": 36,
     "metadata": {},
     "output_type": "execute_result"
    }
   ],
   "source": [
    "i"
   ]
  },
  {
   "cell_type": "code",
   "execution_count": 37,
   "id": "7bad7166",
   "metadata": {},
   "outputs": [
    {
     "data": {
      "text/plain": [
       "2"
      ]
     },
     "execution_count": 37,
     "metadata": {},
     "output_type": "execute_result"
    }
   ],
   "source": [
    "j"
   ]
  },
  {
   "cell_type": "code",
   "execution_count": 41,
   "id": "9fb30551",
   "metadata": {},
   "outputs": [
    {
     "data": {
      "text/plain": [
       "3"
      ]
     },
     "execution_count": 41,
     "metadata": {},
     "output_type": "execute_result"
    }
   ],
   "source": [
    "k"
   ]
  },
  {
   "cell_type": "markdown",
   "id": "206ae589",
   "metadata": {},
   "source": [
    "# Built-in-Types"
   ]
  },
  {
   "cell_type": "markdown",
   "id": "2b0323b8",
   "metadata": {},
   "source": [
    "# 1.Nothing"
   ]
  },
  {
   "cell_type": "code",
   "execution_count": 42,
   "id": "1e346731",
   "metadata": {},
   "outputs": [
    {
     "data": {
      "text/plain": [
       "Nothing"
      ]
     },
     "execution_count": 42,
     "metadata": {},
     "output_type": "execute_result"
    }
   ],
   "source": [
    "typeof(nothing)"
   ]
  },
  {
   "cell_type": "code",
   "execution_count": 118,
   "id": "5114d8e4",
   "metadata": {},
   "outputs": [
    {
     "data": {
      "text/plain": [
       "Nothing"
      ]
     },
     "execution_count": 118,
     "metadata": {},
     "output_type": "execute_result"
    }
   ],
   "source": [
    "a = nothing\n",
    "i = 20\n",
    "if i < 20\n",
    "    a = 20\n",
    "end\n",
    "20\n",
    "typeof(a)"
   ]
  },
  {
   "cell_type": "markdown",
   "id": "215742d6",
   "metadata": {},
   "source": [
    "# 2. Numeric Types"
   ]
  },
  {
   "cell_type": "markdown",
   "id": "7b55841c",
   "metadata": {},
   "source": [
    "# Bools & IntegralTypes"
   ]
  },
  {
   "cell_type": "code",
   "execution_count": 45,
   "id": "e0eebf3f",
   "metadata": {},
   "outputs": [
    {
     "data": {
      "text/plain": [
       "Int64"
      ]
     },
     "execution_count": 45,
     "metadata": {},
     "output_type": "execute_result"
    }
   ],
   "source": [
    "typeof(1)"
   ]
  },
  {
   "cell_type": "code",
   "execution_count": 46,
   "id": "c2f2d655",
   "metadata": {},
   "outputs": [
    {
     "data": {
      "text/plain": [
       "(UInt8, UInt8, UInt8)"
      ]
     },
     "execution_count": 46,
     "metadata": {},
     "output_type": "execute_result"
    }
   ],
   "source": [
    "typeof(0b1), typeof(0o7), typeof(0xff)"
   ]
  },
  {
   "cell_type": "code",
   "execution_count": 47,
   "id": "d48f8b0c",
   "metadata": {},
   "outputs": [
    {
     "data": {
      "text/plain": [
       "(UInt8, UInt16, UInt32, UInt64, UInt128)"
      ]
     },
     "execution_count": 47,
     "metadata": {},
     "output_type": "execute_result"
    }
   ],
   "source": [
    "typeof(0xf), typeof(0xfff), typeof(0xfffff), typeof(0xfffffffff), typeof(0xfffffffffffffffff)"
   ]
  },
  {
   "cell_type": "markdown",
   "id": "f9d31c4a",
   "metadata": {},
   "source": [
    "# 3.Floating Point Numbers"
   ]
  },
  {
   "cell_type": "code",
   "execution_count": 48,
   "id": "12b4c1f2",
   "metadata": {},
   "outputs": [
    {
     "data": {
      "text/plain": [
       "(Float64, Float64, Float64)"
      ]
     },
     "execution_count": 48,
     "metadata": {},
     "output_type": "execute_result"
    }
   ],
   "source": [
    "typeof(1.0), typeof(1e0), typeof(1.e4)"
   ]
  },
  {
   "cell_type": "code",
   "execution_count": 49,
   "id": "b3e42988",
   "metadata": {},
   "outputs": [
    {
     "data": {
      "text/plain": [
       "(Float32, Float32, Float32)"
      ]
     },
     "execution_count": 49,
     "metadata": {},
     "output_type": "execute_result"
    }
   ],
   "source": [
    "typeof(1.0f0), typeof(1f-6), typeof(1.f4)"
   ]
  },
  {
   "cell_type": "markdown",
   "id": "a2488e0c",
   "metadata": {},
   "source": [
    "# 4.Abstract Types"
   ]
  },
  {
   "cell_type": "code",
   "execution_count": 50,
   "id": "86e20867",
   "metadata": {},
   "outputs": [],
   "source": [
    "abstract type MyAbstractType end\n",
    "struct MyConcreteType <: MyAbstractType\n",
    "    member\n",
    "end"
   ]
  },
  {
   "cell_type": "code",
   "execution_count": 51,
   "id": "dd45ba93",
   "metadata": {},
   "outputs": [
    {
     "data": {
      "text/plain": [
       "MyConcreteType(5)"
      ]
     },
     "execution_count": 51,
     "metadata": {},
     "output_type": "execute_result"
    }
   ],
   "source": [
    "a = MyConcreteType(5)"
   ]
  },
  {
   "cell_type": "code",
   "execution_count": 52,
   "id": "dd6a6c15",
   "metadata": {},
   "outputs": [
    {
     "data": {
      "text/plain": [
       "true"
      ]
     },
     "execution_count": 52,
     "metadata": {},
     "output_type": "execute_result"
    }
   ],
   "source": [
    "a isa MyAbstractType"
   ]
  },
  {
   "cell_type": "markdown",
   "id": "5a756fb5",
   "metadata": {},
   "source": [
    "# 3.Primitive Types"
   ]
  },
  {
   "cell_type": "code",
   "execution_count": 53,
   "id": "3f575491",
   "metadata": {},
   "outputs": [
    {
     "ename": "LoadError",
     "evalue": "InexactError: UInt32(0.3)",
     "output_type": "error",
     "traceback": [
      "InexactError: UInt32(0.3)",
      "",
      "Stacktrace:",
      " [1] UInt32(x::Float32)",
      "   @ Base .\\float.jl:702",
      " [2] top-level scope",
      "   @ In[53]:1",
      " [3] eval",
      "   @ .\\boot.jl:360 [inlined]",
      " [4] include_string(mapexpr::typeof(REPL.softscope), mod::Module, code::String, filename::String)",
      "   @ Base .\\loading.jl:1116"
     ]
    }
   ],
   "source": [
    "UInt32(3f-1)"
   ]
  },
  {
   "cell_type": "code",
   "execution_count": 54,
   "id": "297416c2",
   "metadata": {},
   "outputs": [],
   "source": [
    "primitive type MyType1 40 end"
   ]
  },
  {
   "cell_type": "code",
   "execution_count": 55,
   "id": "b3b84a7f",
   "metadata": {},
   "outputs": [
    {
     "ename": "LoadError",
     "evalue": "invalid number of bits in primitive type MyType2",
     "output_type": "error",
     "traceback": [
      "invalid number of bits in primitive type MyType2",
      "",
      "Stacktrace:",
      " [1] top-level scope",
      "   @ In[55]:1",
      " [2] eval",
      "   @ .\\boot.jl:360 [inlined]",
      " [3] include_string(mapexpr::typeof(REPL.softscope), mod::Module, code::String, filename::String)",
      "   @ Base .\\loading.jl:1116"
     ]
    }
   ],
   "source": [
    "primitive type MyType2 4 end"
   ]
  },
  {
   "cell_type": "markdown",
   "id": "987f5903",
   "metadata": {},
   "source": [
    "# 4.Bit Types"
   ]
  },
  {
   "cell_type": "code",
   "execution_count": 56,
   "id": "5a3bf86e",
   "metadata": {},
   "outputs": [
    {
     "data": {
      "text/plain": [
       "10"
      ]
     },
     "execution_count": 56,
     "metadata": {},
     "output_type": "execute_result"
    }
   ],
   "source": [
    "a = 10"
   ]
  },
  {
   "cell_type": "code",
   "execution_count": 57,
   "id": "11856cf5",
   "metadata": {},
   "outputs": [
    {
     "data": {
      "text/plain": [
       "true"
      ]
     },
     "execution_count": 57,
     "metadata": {},
     "output_type": "execute_result"
    }
   ],
   "source": [
    "isbits(a)"
   ]
  },
  {
   "cell_type": "code",
   "execution_count": 58,
   "id": "9c647739",
   "metadata": {},
   "outputs": [
    {
     "data": {
      "text/plain": [
       "true"
      ]
     },
     "execution_count": 58,
     "metadata": {},
     "output_type": "execute_result"
    }
   ],
   "source": [
    "isbitstype(Int)"
   ]
  },
  {
   "cell_type": "markdown",
   "id": "08db94a1",
   "metadata": {},
   "source": [
    "# User Defined Types"
   ]
  },
  {
   "cell_type": "markdown",
   "id": "47857a4e",
   "metadata": {},
   "source": [
    "# 1.Struct"
   ]
  },
  {
   "cell_type": "code",
   "execution_count": 59,
   "id": "a60f0c2c",
   "metadata": {},
   "outputs": [],
   "source": [
    "struct Rectangle\n",
    "    h::Float64\n",
    "    w::Float64\n",
    "end"
   ]
  },
  {
   "cell_type": "code",
   "execution_count": 60,
   "id": "0d766cfa",
   "metadata": {},
   "outputs": [
    {
     "data": {
      "text/plain": [
       "Rectangle(10.0, 20.0)"
      ]
     },
     "execution_count": 60,
     "metadata": {},
     "output_type": "execute_result"
    }
   ],
   "source": [
    "r = Rectangle(10.0, 20.0)"
   ]
  },
  {
   "cell_type": "code",
   "execution_count": 63,
   "id": "58354963",
   "metadata": {},
   "outputs": [
    {
     "ename": "LoadError",
     "evalue": "setfield! immutable struct of type Rectangle cannot be changed",
     "output_type": "error",
     "traceback": [
      "setfield! immutable struct of type Rectangle cannot be changed",
      "",
      "Stacktrace:",
      " [1] setproperty!(x::Rectangle, f::Symbol, v::Int64)",
      "   @ Base .\\Base.jl:34",
      " [2] top-level scope",
      "   @ In[63]:1",
      " [3] eval",
      "   @ .\\boot.jl:360 [inlined]",
      " [4] include_string(mapexpr::typeof(REPL.softscope), mod::Module, code::String, filename::String)",
      "   @ Base .\\loading.jl:1116"
     ]
    }
   ],
   "source": [
    "r.h = 15"
   ]
  },
  {
   "cell_type": "markdown",
   "id": "cb92f16b",
   "metadata": {},
   "source": [
    "# Mutable Struct"
   ]
  },
  {
   "cell_type": "code",
   "execution_count": 64,
   "id": "8202ccdf",
   "metadata": {},
   "outputs": [],
   "source": [
    "mutable struct MRectangle\n",
    "    h::Float64\n",
    "    w::Float64\n",
    "end"
   ]
  },
  {
   "cell_type": "code",
   "execution_count": 65,
   "id": "045f56bc",
   "metadata": {},
   "outputs": [
    {
     "data": {
      "text/plain": [
       "MRectangle(10.0, 20.0)"
      ]
     },
     "execution_count": 65,
     "metadata": {},
     "output_type": "execute_result"
    }
   ],
   "source": [
    "mr = MRectangle(10.0, 20.0)"
   ]
  },
  {
   "cell_type": "code",
   "execution_count": 66,
   "id": "2f7a5866",
   "metadata": {},
   "outputs": [
    {
     "data": {
      "text/plain": [
       "15.0"
      ]
     },
     "execution_count": 66,
     "metadata": {},
     "output_type": "execute_result"
    }
   ],
   "source": [
    "mr.h = 15.0"
   ]
  },
  {
   "cell_type": "code",
   "execution_count": 67,
   "id": "c8575cb5",
   "metadata": {},
   "outputs": [
    {
     "data": {
      "text/plain": [
       "MRectangle(15.0, 20.0)"
      ]
     },
     "execution_count": 67,
     "metadata": {},
     "output_type": "execute_result"
    }
   ],
   "source": [
    "mr"
   ]
  },
  {
   "cell_type": "code",
   "execution_count": 68,
   "id": "fe526ca5",
   "metadata": {},
   "outputs": [],
   "source": [
    "abstract type Shape end\n",
    "struct Rectangle1 <: Shape\n",
    "    w::Float64\n",
    "    h::Float64\n",
    "end\n",
    "struct Square <: Shape\n",
    "    l::Float64\n",
    "end"
   ]
  },
  {
   "cell_type": "markdown",
   "id": "3d01bc01",
   "metadata": {},
   "source": [
    "# Members"
   ]
  },
  {
   "cell_type": "code",
   "execution_count": 69,
   "id": "fbb43fac",
   "metadata": {},
   "outputs": [],
   "source": [
    "mutable struct A\n",
    "    member\n",
    "end"
   ]
  },
  {
   "cell_type": "code",
   "execution_count": 70,
   "id": "bd2b68c5",
   "metadata": {},
   "outputs": [
    {
     "data": {
      "text/plain": [
       "A(5)"
      ]
     },
     "execution_count": 70,
     "metadata": {},
     "output_type": "execute_result"
    }
   ],
   "source": [
    "a = A(5)"
   ]
  },
  {
   "cell_type": "code",
   "execution_count": 71,
   "id": "bf7239be",
   "metadata": {},
   "outputs": [
    {
     "data": {
      "text/plain": [
       "Int64"
      ]
     },
     "execution_count": 71,
     "metadata": {},
     "output_type": "execute_result"
    }
   ],
   "source": [
    "typeof(a.member)"
   ]
  },
  {
   "cell_type": "code",
   "execution_count": 72,
   "id": "ce2822bf",
   "metadata": {},
   "outputs": [
    {
     "data": {
      "text/plain": [
       "A(\"String\")"
      ]
     },
     "execution_count": 72,
     "metadata": {},
     "output_type": "execute_result"
    }
   ],
   "source": [
    "a1 = A(\"String\")"
   ]
  },
  {
   "cell_type": "code",
   "execution_count": 73,
   "id": "5eb96309",
   "metadata": {},
   "outputs": [
    {
     "data": {
      "text/plain": [
       "String"
      ]
     },
     "execution_count": 73,
     "metadata": {},
     "output_type": "execute_result"
    }
   ],
   "source": [
    "typeof(a1.member)"
   ]
  },
  {
   "cell_type": "markdown",
   "id": "abc9a419",
   "metadata": {},
   "source": [
    "## Any"
   ]
  },
  {
   "cell_type": "code",
   "execution_count": 74,
   "id": "566ee3b6",
   "metadata": {},
   "outputs": [
    {
     "data": {
      "text/plain": [
       "\"String\""
      ]
     },
     "execution_count": 74,
     "metadata": {},
     "output_type": "execute_result"
    }
   ],
   "source": [
    "a.member = \"String\""
   ]
  },
  {
   "cell_type": "code",
   "execution_count": 75,
   "id": "3e4c106b",
   "metadata": {},
   "outputs": [
    {
     "data": {
      "text/plain": [
       "String"
      ]
     },
     "execution_count": 75,
     "metadata": {},
     "output_type": "execute_result"
    }
   ],
   "source": [
    "typeof(a.member)"
   ]
  },
  {
   "cell_type": "markdown",
   "id": "8a57b726",
   "metadata": {},
   "source": [
    "# Parametric Data types"
   ]
  },
  {
   "cell_type": "code",
   "execution_count": 76,
   "id": "46677521",
   "metadata": {},
   "outputs": [
    {
     "ename": "LoadError",
     "evalue": "TypeError: in Rational, in T, expected T<:Integer, got Type{Any}",
     "output_type": "error",
     "traceback": [
      "TypeError: in Rational, in T, expected T<:Integer, got Type{Any}",
      "",
      "Stacktrace:",
      " [1] top-level scope",
      "   @ In[76]:1",
      " [2] eval",
      "   @ .\\boot.jl:360 [inlined]",
      " [3] include_string(mapexpr::typeof(REPL.softscope), mod::Module, code::String, filename::String)",
      "   @ Base .\\loading.jl:1116"
     ]
    }
   ],
   "source": [
    "Rational{Any}"
   ]
  },
  {
   "cell_type": "code",
   "execution_count": 77,
   "id": "cbdf5167",
   "metadata": {},
   "outputs": [
    {
     "data": {
      "text/plain": [
       "true"
      ]
     },
     "execution_count": 77,
     "metadata": {},
     "output_type": "execute_result"
    }
   ],
   "source": [
    "Rational{Int32} <: Rational"
   ]
  },
  {
   "cell_type": "code",
   "execution_count": 78,
   "id": "75eacf41",
   "metadata": {},
   "outputs": [
    {
     "data": {
      "text/plain": [
       "false"
      ]
     },
     "execution_count": 78,
     "metadata": {},
     "output_type": "execute_result"
    }
   ],
   "source": [
    "Rational{Int32} <: Rational{Integer}"
   ]
  },
  {
   "cell_type": "code",
   "execution_count": 79,
   "id": "4fed2d7c",
   "metadata": {},
   "outputs": [],
   "source": [
    "abstract type ShapeParametric{T<:AbstractFloat} end"
   ]
  },
  {
   "cell_type": "code",
   "execution_count": 80,
   "id": "df668918",
   "metadata": {},
   "outputs": [],
   "source": [
    "struct RectangleParametric{T<:AbstractFloat} <: ShapeParametric{T}\n",
    "     w::T\n",
    "     h::T\n",
    "end\n",
    "struct SquareParametric{T<:AbstractFloat} <: ShapeParametric{T}\n",
    "    s::T\n",
    "end"
   ]
  },
  {
   "cell_type": "code",
   "execution_count": 81,
   "id": "be19f67e",
   "metadata": {},
   "outputs": [
    {
     "data": {
      "text/plain": [
       "Point{Float32, 2}(Float32[1.0, 2.0])"
      ]
     },
     "execution_count": 81,
     "metadata": {},
     "output_type": "execute_result"
    }
   ],
   "source": [
    "struct Point{T<:AbstractFloat, N}\n",
    "    x::Vector{T}\n",
    "end\n",
    "p = Point{Float32, 2}([1f0, 2f0])"
   ]
  },
  {
   "cell_type": "markdown",
   "id": "0db82975",
   "metadata": {},
   "source": [
    "# Operations on types"
   ]
  },
  {
   "cell_type": "markdown",
   "id": "2739c2fd",
   "metadata": {},
   "source": [
    "# 1.Type of"
   ]
  },
  {
   "cell_type": "code",
   "execution_count": 82,
   "id": "7be13697",
   "metadata": {},
   "outputs": [
    {
     "data": {
      "text/plain": [
       "Rational{Int64}"
      ]
     },
     "execution_count": 82,
     "metadata": {},
     "output_type": "execute_result"
    }
   ],
   "source": [
    "a = 1//2\n",
    "typeof(a)"
   ]
  },
  {
   "cell_type": "markdown",
   "id": "dd3888bb",
   "metadata": {},
   "source": [
    "# 2.Aliases"
   ]
  },
  {
   "cell_type": "code",
   "execution_count": 83,
   "id": "593fbc9b",
   "metadata": {},
   "outputs": [
    {
     "data": {
      "text/plain": [
       "DataType"
      ]
     },
     "execution_count": 83,
     "metadata": {},
     "output_type": "execute_result"
    }
   ],
   "source": [
    "typeof(Int)"
   ]
  },
  {
   "cell_type": "code",
   "execution_count": 84,
   "id": "5ddaa910",
   "metadata": {},
   "outputs": [
    {
     "data": {
      "text/plain": [
       "DataType"
      ]
     },
     "execution_count": 84,
     "metadata": {},
     "output_type": "execute_result"
    }
   ],
   "source": [
    "typeof(Rational{Int})"
   ]
  },
  {
   "cell_type": "markdown",
   "id": "3b47f08b",
   "metadata": {},
   "source": [
    "# 3.Isa"
   ]
  },
  {
   "cell_type": "code",
   "execution_count": 85,
   "id": "78643b91",
   "metadata": {},
   "outputs": [
    {
     "data": {
      "text/plain": [
       "true"
      ]
     },
     "execution_count": 85,
     "metadata": {},
     "output_type": "execute_result"
    }
   ],
   "source": [
    "isa(1, Number)"
   ]
  },
  {
   "cell_type": "code",
   "execution_count": 86,
   "id": "8a695f38",
   "metadata": {},
   "outputs": [
    {
     "data": {
      "text/plain": [
       "false"
      ]
     },
     "execution_count": 86,
     "metadata": {},
     "output_type": "execute_result"
    }
   ],
   "source": [
    "isa(1, Matrix)"
   ]
  },
  {
   "cell_type": "code",
   "execution_count": 87,
   "id": "5800e181",
   "metadata": {},
   "outputs": [
    {
     "data": {
      "text/plain": [
       "true"
      ]
     },
     "execution_count": 87,
     "metadata": {},
     "output_type": "execute_result"
    }
   ],
   "source": [
    "isa(1, Int)"
   ]
  },
  {
   "cell_type": "code",
   "execution_count": 88,
   "id": "64db6091",
   "metadata": {},
   "outputs": [
    {
     "data": {
      "text/plain": [
       "true"
      ]
     },
     "execution_count": 88,
     "metadata": {},
     "output_type": "execute_result"
    }
   ],
   "source": [
    "1 isa Number"
   ]
  },
  {
   "cell_type": "markdown",
   "id": "d48fdcfe",
   "metadata": {},
   "source": [
    "# 4.Supertype"
   ]
  },
  {
   "cell_type": "code",
   "execution_count": 89,
   "id": "f20658ec",
   "metadata": {},
   "outputs": [
    {
     "data": {
      "text/plain": [
       "Signed"
      ]
     },
     "execution_count": 89,
     "metadata": {},
     "output_type": "execute_result"
    }
   ],
   "source": [
    "supertype(Int32)"
   ]
  },
  {
   "cell_type": "code",
   "execution_count": 90,
   "id": "d7f980e8",
   "metadata": {},
   "outputs": [
    {
     "data": {
      "text/plain": [
       "true"
      ]
     },
     "execution_count": 90,
     "metadata": {},
     "output_type": "execute_result"
    }
   ],
   "source": [
    "Int32 <: Integer"
   ]
  },
  {
   "cell_type": "code",
   "execution_count": 91,
   "id": "1392d55b",
   "metadata": {},
   "outputs": [
    {
     "data": {
      "text/plain": [
       "false"
      ]
     },
     "execution_count": 91,
     "metadata": {},
     "output_type": "execute_result"
    }
   ],
   "source": [
    "Int32 <: AbstractFloat"
   ]
  },
  {
   "cell_type": "code",
   "execution_count": 92,
   "id": "f8b7bf81",
   "metadata": {},
   "outputs": [
    {
     "data": {
      "text/plain": [
       "true"
      ]
     },
     "execution_count": 92,
     "metadata": {},
     "output_type": "execute_result"
    }
   ],
   "source": [
    "Int32 <: Real"
   ]
  },
  {
   "cell_type": "code",
   "execution_count": 93,
   "id": "4b820ffe",
   "metadata": {},
   "outputs": [
    {
     "data": {
      "text/plain": [
       "true"
      ]
     },
     "execution_count": 93,
     "metadata": {},
     "output_type": "execute_result"
    }
   ],
   "source": [
    "Int32 <: Signed"
   ]
  },
  {
   "cell_type": "markdown",
   "id": "7b87edf9",
   "metadata": {},
   "source": [
    "# Printing Data Types"
   ]
  },
  {
   "cell_type": "code",
   "execution_count": 94,
   "id": "46e4817a",
   "metadata": {},
   "outputs": [
    {
     "data": {
      "text/plain": [
       "AA(1, 2.0)"
      ]
     },
     "execution_count": 94,
     "metadata": {},
     "output_type": "execute_result"
    }
   ],
   "source": [
    "struct AA\n",
    "    a1::Int32\n",
    "    a2::Float64\n",
    "end\n",
    "a = AA(1, 2)"
   ]
  },
  {
   "cell_type": "code",
   "execution_count": 95,
   "id": "fe8ca36f",
   "metadata": {},
   "outputs": [],
   "source": [
    "a;"
   ]
  },
  {
   "cell_type": "code",
   "execution_count": 96,
   "id": "11757f52",
   "metadata": {},
   "outputs": [
    {
     "data": {
      "text/plain": [
       "AA(1, 2.0)"
      ]
     },
     "execution_count": 96,
     "metadata": {},
     "output_type": "execute_result"
    }
   ],
   "source": [
    "a"
   ]
  },
  {
   "cell_type": "code",
   "execution_count": 97,
   "id": "1c14bd34",
   "metadata": {},
   "outputs": [
    {
     "data": {
      "text/plain": [
       "2.0"
      ]
     },
     "execution_count": 97,
     "metadata": {},
     "output_type": "execute_result"
    }
   ],
   "source": [
    "b = 2.0"
   ]
  },
  {
   "cell_type": "code",
   "execution_count": 98,
   "id": "d8363553",
   "metadata": {},
   "outputs": [
    {
     "data": {
      "text/plain": [
       "2.0"
      ]
     },
     "execution_count": 98,
     "metadata": {},
     "output_type": "execute_result"
    }
   ],
   "source": [
    "a;b"
   ]
  },
  {
   "cell_type": "code",
   "execution_count": 100,
   "id": "cd6fc930",
   "metadata": {},
   "outputs": [
    {
     "data": {
      "text/plain": [
       "AA(1, 2.0)"
      ]
     },
     "execution_count": 100,
     "metadata": {},
     "output_type": "execute_result"
    }
   ],
   "source": [
    "a"
   ]
  },
  {
   "cell_type": "code",
   "execution_count": 102,
   "id": "fcd3a347",
   "metadata": {},
   "outputs": [],
   "source": [
    "a;"
   ]
  },
  {
   "cell_type": "code",
   "execution_count": 103,
   "id": "aee043d0",
   "metadata": {},
   "outputs": [],
   "source": [
    "a; nothing"
   ]
  },
  {
   "cell_type": "markdown",
   "id": "08f060bd",
   "metadata": {},
   "source": [
    "# Show"
   ]
  },
  {
   "cell_type": "code",
   "execution_count": 104,
   "id": "7fecdef9",
   "metadata": {},
   "outputs": [
    {
     "data": {
      "text/plain": [
       "AAA(1, 2.0)"
      ]
     },
     "execution_count": 104,
     "metadata": {},
     "output_type": "execute_result"
    }
   ],
   "source": [
    "struct AAA\n",
    "    a1::Int32\n",
    "    a2::Float64\n",
    "end\n",
    "a = AAA(1, 2)"
   ]
  },
  {
   "cell_type": "code",
   "execution_count": 105,
   "id": "5d45e531",
   "metadata": {},
   "outputs": [],
   "source": [
    "function Base.show(io::IO, a::AAA)\n",
    "    println(io, \"a1: \", a.a1, \" a2: \", a.a2)\n",
    "end"
   ]
  },
  {
   "cell_type": "code",
   "execution_count": 106,
   "id": "bc403297",
   "metadata": {},
   "outputs": [
    {
     "data": {
      "text/plain": [
       "a1: 1 a2: 2.0\n"
      ]
     },
     "execution_count": 106,
     "metadata": {},
     "output_type": "execute_result"
    }
   ],
   "source": [
    "a"
   ]
  },
  {
   "cell_type": "markdown",
   "id": "4e59cd05",
   "metadata": {},
   "source": [
    "# print"
   ]
  },
  {
   "cell_type": "code",
   "execution_count": 107,
   "id": "9c6cb405",
   "metadata": {},
   "outputs": [
    {
     "name": "stdout",
     "output_type": "stream",
     "text": [
      "a1: 1 a2: 2.0\n"
     ]
    }
   ],
   "source": [
    "print(a)"
   ]
  },
  {
   "cell_type": "markdown",
   "id": "c8f26610",
   "metadata": {},
   "source": [
    "# String"
   ]
  },
  {
   "cell_type": "code",
   "execution_count": 108,
   "id": "87be8f00",
   "metadata": {},
   "outputs": [
    {
     "data": {
      "text/plain": [
       "\"a1: 1 a2: 2.0\\n\""
      ]
     },
     "execution_count": 108,
     "metadata": {},
     "output_type": "execute_result"
    }
   ],
   "source": [
    "string(a)"
   ]
  },
  {
   "cell_type": "code",
   "execution_count": null,
   "id": "6392f14f",
   "metadata": {},
   "outputs": [],
   "source": []
  }
 ],
 "metadata": {
  "kernelspec": {
   "display_name": "Julia 1.6.7",
   "language": "julia",
   "name": "julia-1.6"
  },
  "language_info": {
   "file_extension": ".jl",
   "mimetype": "application/julia",
   "name": "julia",
   "version": "1.6.7"
  }
 },
 "nbformat": 4,
 "nbformat_minor": 5
}
